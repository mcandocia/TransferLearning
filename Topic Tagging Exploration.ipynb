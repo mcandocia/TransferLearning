{
 "cells": [
  {
   "cell_type": "code",
   "execution_count": 1,
   "metadata": {
    "collapsed": true
   },
   "outputs": [],
   "source": [
    "import pandas\n",
    "import numpy as np\n",
    "from bs4 import BeautifulSoup"
   ]
  },
  {
   "cell_type": "code",
   "execution_count": 2,
   "metadata": {
    "collapsed": true
   },
   "outputs": [],
   "source": [
    "import os"
   ]
  },
  {
   "cell_type": "code",
   "execution_count": 3,
   "metadata": {
    "collapsed": false
   },
   "outputs": [
    {
     "data": {
      "text/plain": [
       "['test.csv',\n",
       " '.ipynb_checkpoints',\n",
       " 'diy.csv',\n",
       " 'cooking.csv',\n",
       " 'biology.csv',\n",
       " 'sample_submission.csv',\n",
       " 'crypto.csv',\n",
       " 'zips',\n",
       " 'robotics.csv',\n",
       " 'travel.csv',\n",
       " 'Untitled.ipynb']"
      ]
     },
     "execution_count": 3,
     "metadata": {},
     "output_type": "execute_result"
    }
   ],
   "source": [
    "os.listdir('.')"
   ]
  },
  {
   "cell_type": "code",
   "execution_count": 4,
   "metadata": {
    "collapsed": true
   },
   "outputs": [],
   "source": [
    "data_list = {key:pandas.read_csv(key) for key in ['diy.csv',\n",
    "                                                'cooking.csv',\n",
    "                                                'biology.csv',\n",
    "                                                'crypto.csv',\n",
    "                                                'robotics.csv',\n",
    "                                                'travel.csv']\n",
    "           }"
   ]
  },
  {
   "cell_type": "code",
   "execution_count": 5,
   "metadata": {
    "collapsed": false
   },
   "outputs": [
    {
     "data": {
      "text/plain": [
       "['id', 'title', 'content', 'tags']"
      ]
     },
     "execution_count": 5,
     "metadata": {},
     "output_type": "execute_result"
    }
   ],
   "source": [
    "#get column names\n",
    "list(data_list['diy.csv'])"
   ]
  },
  {
   "cell_type": "code",
   "execution_count": 8,
   "metadata": {
    "collapsed": false
   },
   "outputs": [],
   "source": [
    "for key in data_list:\n",
    "    data_list[key]['source'] = key"
   ]
  },
  {
   "cell_type": "code",
   "execution_count": 9,
   "metadata": {
    "collapsed": true
   },
   "outputs": [],
   "source": [
    "data = pandas.concat(data_list.values())"
   ]
  },
  {
   "cell_type": "code",
   "execution_count": 10,
   "metadata": {
    "collapsed": false
   },
   "outputs": [
    {
     "data": {
      "text/plain": [
       "(87000, 5)"
      ]
     },
     "execution_count": 10,
     "metadata": {},
     "output_type": "execute_result"
    }
   ],
   "source": [
    "data.shape"
   ]
  },
  {
   "cell_type": "code",
   "execution_count": 12,
   "metadata": {
    "collapsed": false
   },
   "outputs": [
    {
     "data": {
      "text/plain": [
       "id                                                         1\n",
       "title      How do I install a new, non load bearing wall ...\n",
       "content    <p>I'm looking to finish my basement and simpl...\n",
       "tags                           remodeling basement carpentry\n",
       "source                                               diy.csv\n",
       "Name: 0, dtype: object"
      ]
     },
     "execution_count": 12,
     "metadata": {},
     "output_type": "execute_result"
    }
   ],
   "source": [
    "data.iloc[0]"
   ]
  },
  {
   "cell_type": "code",
   "execution_count": 13,
   "metadata": {
    "collapsed": false
   },
   "outputs": [
    {
     "name": "stdout",
     "output_type": "stream",
     "text": [
      "index: 1950\n",
      "fence post gates\n",
      "index: 85008\n",
      "integrity steganography\n",
      "index: 70423\n",
      "kale\n",
      "index: 71087\n",
      "seasoning\n",
      "index: 68746\n",
      "pizza\n",
      "index: 45761\n",
      "budget europe schengen destinations itineraries\n",
      "index: 26323\n",
      "molecular-biology genetics\n",
      "index: 45817\n",
      "belgium leuven\n",
      "index: 45303\n",
      "air-travel tickets airlines bookings\n",
      "index: 23154\n",
      "kitchens\n",
      "index: 62442\n",
      "flavor deep-frying\n",
      "index: 84572\n",
      "chosen-plaintext-attack\n",
      "index: 76913\n",
      "encryption public-key one-way-function\n",
      "index: 66508\n",
      "frying oil deep-frying\n",
      "index: 84255\n",
      "aes cbc initialization-vector\n",
      "index: 43086\n",
      "food-and-drink cuba dietary-restrictions\n",
      "index: 71419\n",
      "honey\n",
      "index: 21747\n",
      "wood stairs handrail\n",
      "index: 26587\n",
      "human-biology eyes reflexes\n",
      "index: 73751\n",
      "flavor\n"
     ]
    }
   ],
   "source": [
    "random_indices = np.random.randint(0,87000,20)\n",
    "for index in random_indices:\n",
    "    print 'index: %d' % index\n",
    "    print data.iloc[index]['tags']"
   ]
  },
  {
   "cell_type": "markdown",
   "metadata": {},
   "source": [
    "It looks like there are hyphenated terms. I should investigate the context of these better, since I may need to use ngrams and/or network-based models to extract similar keywords."
   ]
  },
  {
   "cell_type": "code",
   "execution_count": 15,
   "metadata": {
    "collapsed": false
   },
   "outputs": [
    {
     "name": "stdout",
     "output_type": "stream",
     "text": [
      "index: 45303\n",
      "tags: air-travel tickets airlines bookings\n",
      "title: How far in advance is it recommended to book flight tickets?\n",
      "BODY:\n",
      "<p>Ok so I know that rule of thumb for booking flight tickets is 'earlier the better' but I am not sure how far in advance should the action be taken.\n",
      "I have seen many cases where the min. prices at say 4 months before travel dates are higher than 3 months before, this I believe is primarily due to a new flight route being added or some complex airline thingy beyond me but this almost always happens. Also let me know if this is common or I am mistaken here.</p>\n",
      "\n",
      "<p>So I am asking what is the time line that I should draw untill I look for better deals and book the flight eventually. I have to travel in last week June and return around 1 week Aug, I am open to changes in travel dates by 1 week in both direction and both ways.</p>\n",
      "\n",
      "index: 62442\n",
      "tags: flavor deep-frying\n",
      "title: Deep frying - taste difference in saturated vs. unsaturated oil\n",
      "BODY:\n",
      "<p>In <a href=\"http://cooking.stackexchange.com/q/6419/24980\">one of my questions</a> I received answers that indicated using more saturated (Animal) fats would extend the life of my deep frying oil.</p>\n",
      "\n",
      "<p>However - given proper maintenance / cleaning / good oil - how can the taste difference between fries made in saturated vs unsaturated oil be described?</p>\n",
      "\n",
      "<p>(I use fries in the question as they are fairly neutral in flavor).</p>\n",
      "\n",
      "index: 84572\n",
      "tags: chosen-plaintext-attack\n",
      "title: How to show CPA attacker does not need access to encryption oracle after receiving cyphertext\n",
      "BODY:\n",
      "<p>In the private key CPA game, the attacker has access to an encryption oracle anytime during the attack. </p>\n",
      "\n",
      "<p>However, I have seen this statement in lecture notes I downloaded \"You can prove that for every polynomial time attacker that uses the encryption oracle after receiving the challenge cyphertext, you can construct another polynomial attacker that also breaks the encryption scheme only querying the oracle before receiving the challenge cyphertext.\"</p>\n",
      "\n",
      "<p>I have tried to do reductions but I don't see how I could use the first type of attacker to build the second type, since the first requires oracle queries after knowing the challenge cyphertext.</p>\n",
      "\n",
      "<p>I have also tried to search this but was unable to find.</p>\n",
      "\n",
      "index: 76913\n",
      "tags: encryption public-key one-way-function\n",
      "title: What other one-way functions are used in cryptosystems?\n",
      "BODY:\n",
      "<p>For RSA and El Gamal (and most other public key cryptosystems), one of the key ideas is that factoring and finding discrete logarithms are hard. There are other systems that rely on certain properties of lattices.</p>\n",
      "\n",
      "<p>What are the other one-way-ish functions that have cryptosystems designed around them?</p>\n",
      "\n",
      "index: 66508\n",
      "tags: frying oil deep-frying\n",
      "title: Making \"french fries\" out of Cassava/Yuca root\n",
      "BODY:\n",
      "<p>I'm surprised this question isn't already on here, maybe I missed it...</p>\n",
      "\n",
      "<p>To start, had my first taste of yucca cooked as a sort of alternative french fry at a Bolivian restaurant, and it was delicious. Reminded me of a tastier, sweeter french fry.\n",
      "So inspired by this, I bought some myself and attempted to replicate it, but utterly failed.</p>\n",
      "\n",
      "<p>What is the best way to replicate the recipe? After watching a video on youtube of how to prepare it, I deep fried it in oil, but it overcooked much too quickly.</p>\n",
      "\n",
      "<p><strong>UPDATE:</strong></p>\n",
      "\n",
      "<p>I tried out the selected answer's recipe yesterday, and it worked fantastic. I did a few things differently though, mainly due to time constraints. Full recipe:</p>\n",
      "\n",
      "<ol>\n",
      "<li>Cut off brown skin.</li>\n",
      "<li>Slice into steak fry slices</li>\n",
      "<li>Boil for 10mn (I would suggest less, some thinner slices became too soft)</li>\n",
      "<li>Place in freezer (I only had time for 20-30 mn, but I'd go with the full hr as suggested by the selected answer if you have the time)</li>\n",
      "<li>Heat Peanut oil (Med-High) in deep cooking pot (can get messy) and cook until brown.</li>\n",
      "<li>Sprinkle with salt</li>\n",
      "</ol>\n",
      "\n",
      "<p>Note: The answered recipe suggests frying until golden/golden brown, but I found a darker fry to be much tastier!</p>\n",
      "\n",
      "index: 84255\n",
      "tags: aes cbc initialization-vector\n",
      "title: Alter plaintext in block cipher AES in CBC mode\n",
      "BODY:\n",
      "<p>How can I alter the plaintext before decryption by changing the IV?</p>\n",
      "\n",
      "<p>I know what the value of the plaintext should be. I also know the value of the IV (initial vector). The IV and the AES block are both 16 bytes long.</p>\n",
      "\n",
      "<p>What I am trying to do is change what the plaintext will be into something meaningful. <code>\"SEND ME THE DATA ENCRYPTED\"</code> is the plaintext and <code>\"8f6f27b5dbfa2ba8367262bda7154d95\"</code> is IV.</p>\n",
      "\n",
      "<p>I want to change the word <code>\"ENCRYPTED\"</code>. I can change everything before using by changing the IV it but I cannot change it.</p>\n",
      "\n",
      "<p>This the message encrypted:</p>\n",
      "\n",
      "<pre><code>IV: 8f6f27b5dbfa2ba8367262bda7154d95\n",
      "CT: 798e0ff8b06cc27c1591a4088531a64a9b76a9be87a3e944c6e7000f24f5b9f9\n",
      "</code></pre>\n",
      "\n",
      "index: 43086\n",
      "tags: food-and-drink cuba dietary-restrictions\n",
      "title: Vegetarian dishes in Cuba\n",
      "BODY:\n",
      "<p>I'm going to Cuba in February. As a vegetarian, food is always a challenge.</p>\n",
      "\n",
      "<p>The most common problems for me:</p>\n",
      "\n",
      "<ul>\n",
      "<li>I don't know the language very well</li>\n",
      "<li>The concept of vegetarianism is unusual or non-existent in the culture I'm visiting </li>\n",
      "</ul>\n",
      "\n",
      "<p>When I was in Mexico, there was a breakfast dish that was called <strong>Huevos a la Mexicana</strong> that consisted of eggs scrambled with tomatoes, onions, and green peppers (if I remember correctly). As this was a common dish, the ingredients where almost never explicitly written on the menu.</p>\n",
      "\n",
      "<p>Are there any common vegetarian plates in Cuba? And secondly, if I say that I'm a vegetarian, will I get vegetarian food?</p>\n",
      "\n",
      "<p>I'm an <a href=\"http://en.wikipedia.org/wiki/Ovo-lacto_vegetarianism\" rel=\"nofollow\">Ovo-lacto vegetarian</a> which means I eat dairy products and eggs but not meat or seafood.</p>\n",
      "\n",
      "index: 26587\n",
      "tags: human-biology eyes reflexes\n",
      "title: Why does looking at bright light trigger sneezing in some people?\n",
      "BODY:\n",
      "<p>Why does looking at bright light trigger sneezing in some people?</p>\n",
      "\n",
      "<p>Are there any recent studies that have found a cause for this <a href=\"http://en.wikipedia.org/wiki/Photic_sneeze_reflex\">Photic sneeze reflex</a>? The Wikipedia article only references studies pertaining to the effect, stating that the cause is unknown. The article also states that \"the condition affects 18–35% of the population\", which seems to be quite a large percentage. </p>\n",
      "\n",
      "<p>What could have lead to the development and persistence of such a genetic trait in humans? Are there any evolutionary advantages to this?</p>\n",
      "\n"
     ]
    }
   ],
   "source": [
    "hyphenated_indexes = [45303, 62442, 84572, 76913, 66508, 84255, 43086, 26587]\n",
    "for index in hyphenated_indexes:\n",
    "    print 'index: %d' % index\n",
    "    print 'tags: %s' % data.iloc[index]['tags']\n",
    "    print 'title: %s' % data.iloc[index]['title']\n",
    "    print 'BODY:'\n",
    "    print data.iloc[index]['content']"
   ]
  },
  {
   "cell_type": "markdown",
   "metadata": {},
   "source": [
    "notes from each selection above: \n",
    "\n",
    "1. The first sample does not use the words \"air travel/air-travel\" or \"bookings\", or \"airlines\". The title does use the word \"book\", though, in the context of \"booking\".\n",
    "\n",
    "2. \"Deep frying\" (non-hyphenated) is in the title. \"Taste\" is present several times, but \"flavor\" is only used at the very end, in a parenthetical statement.\n",
    "\n",
    "3. Only presence of a keyword (\"chosen plantext attack\") is an instance of its acronym. Its definition would have to be found elsewhere.\n",
    "\n",
    "4. Only one key word is present in the content (\"public key\"), and \"one-way-function\" is sort-of present in the last paragraph, \"one-way-ish functions\". (Hyphenation is actually used here, but the -ish part of the English language is kind of funny)\n",
    "\n",
    "5. \"frying\" and \"oil\" and \"deep frying\" are all present in this body. Interestingly \"french fries\" are not the main focus here.\n",
    "\n",
    "6. AES and CBC acronyms are both present in the title, and AES is also present in body. IV is present in both title and body, but its definition (in parentheses) is present in the body as well. Its definition is the relevant tag. Perhaps the frequency of usage of acronyms vs. their full names should be analyzed to determine which one to use.\n",
    "\n",
    "7. Apart from the mistake of visiting a poor country where everything is cooked in lard as a vegetarian who doesn't know the language...\"food-and-drink\" is a general category, which might be derived from context; \"Cuba\" can be inferred from the title, as it is not a very common subject and important to the topic at hand; \"dietary restrictions\" is probably inferable from the constant use of \"vegetarian\", and possibly from the consistent uses of first-person verbs.\n",
    "\n",
    "8. This would be a hard example. There are references to people, which might allow \"human-biology\" to come into play via context; and \"looking at (X)\" might relate to \"eyes\", and \"trigger\" for \"reflexes\", and perhaps the indication of \"reflexes\" might relate \"looking at (X)\" to \"eyes\" more.\n",
    "\n",
    "At this point, it seems like the following is the case:\n",
    "\n",
    "1. The scores below 0.3 on Kaggle could be genuine, since that appears to be roughly the accuracy you could get from a single correct guess and 2 incorrect guesses from a lot of these, and the ones above 0.9 are likely hand-labeled (cheaters). \n",
    "\n",
    "2. While I could probably achieve a minimal level of performance by simply extracting words, using TF-IDF and a bit of conjugation, better performance requires mining the data set to determine how to form key words from the entire corpus, and figuring out where they are relevant\n",
    "\n",
    "3. First, I think some summary statistics should be extracted to get a better idea of what we're working with, segmented by source\n",
    "\n",
    "    a) How many times each key is used across all posts\n",
    "    \n",
    "    b) How many times the key appears as a substring in the post they are mentioned in , (i) with and (ii) without considering conjugated forms as equal\n",
    "    \n",
    "    c) How many times each key appears in all posts (regardless of their being a key(word)) (i) with and (ii) without considering conjugated forms as equal\n",
    "\n",
    "4. Second-order statistics and visualization may also prove useful to see if there's any structure that can be taken advantage of:\n",
    "\n",
    "    a) Build a co-occurence network of keywords. Clustering may demonstrate generative behavior. Visualization in Gephi is possible.\n",
    "    \n",
    "    b) Identify some key words/phrases from each entry using standard methodology, and then build a dictionary for each keyword. Data reduction might have to be used if this is too memory-intensive.\n",
    "\n",
    "\n",
    "Finally, this problem can be determined to consist of two parts:\n",
    "\n",
    "A. How do you extract keywords from a given corpus?\n",
    "\n",
    "B. How do you relate the title and content of a question to the keywords?\n",
    "\n",
    "Also, are these two problems identical across different (general) categories, or are some a lot different than others?"
   ]
  },
  {
   "cell_type": "markdown",
   "metadata": {},
   "source": [
    "# Preliminary method ideas"
   ]
  },
  {
   "cell_type": "markdown",
   "metadata": {},
   "source": [
    "(incomplete)\n",
    "\n",
    "1. Learn word encodings via neural network and try to extract a \"keywordiness\" feature from it via MLP logistic learning. \n",
    "\n",
    "2. Consider a modified version of \"Thought Skip\" algorithm which encodes sentences. Normally the algorithm requires a large body of continguous text, as opposed to smaller ones.\n",
    "\n",
    "3. Prepend the question to the body text for more uniform treatment of text (at least initially)."
   ]
  },
  {
   "cell_type": "code",
   "execution_count": 16,
   "metadata": {
    "collapsed": true
   },
   "outputs": [],
   "source": [
    "data.to_csv('combined_data.csv', index=False)"
   ]
  },
  {
   "cell_type": "code",
   "execution_count": null,
   "metadata": {
    "collapsed": true
   },
   "outputs": [],
   "source": []
  }
 ],
 "metadata": {
  "kernelspec": {
   "display_name": "Python 2",
   "language": "python",
   "name": "python2"
  },
  "language_info": {
   "codemirror_mode": {
    "name": "ipython",
    "version": 2
   },
   "file_extension": ".py",
   "mimetype": "text/x-python",
   "name": "python",
   "nbconvert_exporter": "python",
   "pygments_lexer": "ipython2",
   "version": "2.7.12"
  }
 },
 "nbformat": 4,
 "nbformat_minor": 2
}
